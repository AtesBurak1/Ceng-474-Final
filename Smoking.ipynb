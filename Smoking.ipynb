{
 "cells": [
  {
   "cell_type": "code",
   "execution_count": 1,
   "id": "08fc9ddb",
   "metadata": {
    "executionInfo": {
     "elapsed": 9883,
     "status": "ok",
     "timestamp": 1700232977033,
     "user": {
      "displayName": "Burak Ates",
      "userId": "13570976552353609876"
     },
     "user_tz": -180
    },
    "id": "08fc9ddb"
   },
   "outputs": [],
   "source": [
    "import pandas as pd\n",
    "import numpy as np\n",
    "from sklearn.preprocessing import StandardScaler, MinMaxScaler, RobustScaler\n",
    "import tensorflow as tf\n"
   ]
  },
  {
   "cell_type": "markdown",
   "id": "Mt_mEhMWFbsC",
   "metadata": {
    "id": "Mt_mEhMWFbsC"
   },
   "source": [
    "### Read the data from github repository and drop uniqe values from it, also combining colunms which are related each other"
   ]
  },
  {
   "cell_type": "code",
   "execution_count": 2,
   "id": "0Adhvo0tDyW_",
   "metadata": {
    "executionInfo": {
     "elapsed": 670,
     "status": "ok",
     "timestamp": 1700232980901,
     "user": {
      "displayName": "Burak Ates",
      "userId": "13570976552353609876"
     },
     "user_tz": -180
    },
    "id": "0Adhvo0tDyW_"
   },
   "outputs": [],
   "source": [
    "url = 'https://raw.githubusercontent.com/AtesBurak1/Ceng-474-Final/main/smoking.csv'\n",
    "df = pd.read_csv(url)\n",
    "pd.set_option('display.max_columns', None)\n",
    "##missing_count = df.isna().sum()  0\n",
    "##print(missing_count)   0\n",
    "\n",
    "#No need id because it is unique to everyone\n",
    "df = df.drop(['ID'], axis = 1)\n",
    "## No need for oral column since every value is 1\n",
    "df = df.drop(['oral'], axis = 1)\n",
    "\n",
    "## Encode\n",
    "df['gender'] = df['gender'].replace({'F': 1, 'M': 0})\n",
    "df['tartar'] = df['tartar'].replace({'Y': 1, 'N': 0})\n",
    "## Combine left and right eyesight and hearing\n",
    "\n"
   ]
  },
  {
   "cell_type": "markdown",
   "id": "NsvqL2MQN0q5",
   "metadata": {
    "id": "NsvqL2MQN0q5"
   },
   "source": [
    "### Fix the blind values for eyesight, then combine eyesight"
   ]
  },
  {
   "cell_type": "code",
   "execution_count": 3,
   "id": "dFPZy3B9N4mg",
   "metadata": {
    "executionInfo": {
     "elapsed": 2,
     "status": "ok",
     "timestamp": 1700232980901,
     "user": {
      "displayName": "Burak Ates",
      "userId": "13570976552353609876"
     },
     "user_tz": -180
    },
    "id": "dFPZy3B9N4mg"
   },
   "outputs": [],
   "source": [
    "columns_to_replace = ['eyesight(left)', 'eyesight(right)', 'hearing(left)', 'hearing(right)']\n",
    "df[columns_to_replace] = df[columns_to_replace].replace(9.9, 0)\n",
    "\n",
    "df['eyesight'] = df[['eyesight(left)', 'eyesight(right)']].mean(axis=1)\n",
    "df['hearing'] = df[['hearing(left)', 'hearing(right)']].mean(axis=1)\n",
    "df = df.drop(['eyesight(left)', 'eyesight(right)','hearing(left)', 'hearing(right)'],axis = 1)"
   ]
  },
  {
   "cell_type": "code",
   "execution_count": 4,
   "id": "de9ec9dd",
   "metadata": {
    "colab": {
     "base_uri": "https://localhost:8080/",
     "height": 338
    },
    "executionInfo": {
     "elapsed": 612,
     "status": "ok",
     "timestamp": 1700232981512,
     "user": {
      "displayName": "Burak Ates",
      "userId": "13570976552353609876"
     },
     "user_tz": -180
    },
    "id": "de9ec9dd",
    "outputId": "a38e4645-fcda-4e57-bdf2-5e3aaca50b7c"
   },
   "outputs": [
    {
     "data": {
      "text/html": [
       "<div>\n",
       "<style scoped>\n",
       "    .dataframe tbody tr th:only-of-type {\n",
       "        vertical-align: middle;\n",
       "    }\n",
       "\n",
       "    .dataframe tbody tr th {\n",
       "        vertical-align: top;\n",
       "    }\n",
       "\n",
       "    .dataframe thead th {\n",
       "        text-align: right;\n",
       "    }\n",
       "</style>\n",
       "<table border=\"1\" class=\"dataframe\">\n",
       "  <thead>\n",
       "    <tr style=\"text-align: right;\">\n",
       "      <th></th>\n",
       "      <th>gender</th>\n",
       "      <th>age</th>\n",
       "      <th>height(cm)</th>\n",
       "      <th>weight(kg)</th>\n",
       "      <th>waist(cm)</th>\n",
       "      <th>systolic</th>\n",
       "      <th>relaxation</th>\n",
       "      <th>fasting blood sugar</th>\n",
       "      <th>Cholesterol</th>\n",
       "      <th>triglyceride</th>\n",
       "      <th>HDL</th>\n",
       "      <th>LDL</th>\n",
       "      <th>hemoglobin</th>\n",
       "      <th>Urine protein</th>\n",
       "      <th>serum creatinine</th>\n",
       "      <th>AST</th>\n",
       "      <th>ALT</th>\n",
       "      <th>Gtp</th>\n",
       "      <th>dental caries</th>\n",
       "      <th>tartar</th>\n",
       "      <th>smoking</th>\n",
       "      <th>eyesight</th>\n",
       "      <th>hearing</th>\n",
       "    </tr>\n",
       "  </thead>\n",
       "  <tbody>\n",
       "    <tr>\n",
       "      <th>count</th>\n",
       "      <td>55692.000000</td>\n",
       "      <td>55692.000000</td>\n",
       "      <td>55692.000000</td>\n",
       "      <td>55692.000000</td>\n",
       "      <td>55692.000000</td>\n",
       "      <td>55692.000000</td>\n",
       "      <td>55692.000000</td>\n",
       "      <td>55692.000000</td>\n",
       "      <td>55692.000000</td>\n",
       "      <td>55692.000000</td>\n",
       "      <td>55692.000000</td>\n",
       "      <td>55692.000000</td>\n",
       "      <td>55692.000000</td>\n",
       "      <td>55692.000000</td>\n",
       "      <td>55692.000000</td>\n",
       "      <td>55692.000000</td>\n",
       "      <td>55692.000000</td>\n",
       "      <td>55692.000000</td>\n",
       "      <td>55692.000000</td>\n",
       "      <td>55692.000000</td>\n",
       "      <td>55692.000000</td>\n",
       "      <td>55692.000000</td>\n",
       "      <td>55692.000000</td>\n",
       "    </tr>\n",
       "    <tr>\n",
       "      <th>mean</th>\n",
       "      <td>0.364343</td>\n",
       "      <td>44.182917</td>\n",
       "      <td>164.649321</td>\n",
       "      <td>65.864936</td>\n",
       "      <td>82.046418</td>\n",
       "      <td>121.494218</td>\n",
       "      <td>76.004830</td>\n",
       "      <td>99.312325</td>\n",
       "      <td>196.901422</td>\n",
       "      <td>126.665697</td>\n",
       "      <td>57.290347</td>\n",
       "      <td>114.964501</td>\n",
       "      <td>14.622592</td>\n",
       "      <td>1.087212</td>\n",
       "      <td>0.885738</td>\n",
       "      <td>26.182935</td>\n",
       "      <td>27.036037</td>\n",
       "      <td>39.952201</td>\n",
       "      <td>0.213334</td>\n",
       "      <td>0.555556</td>\n",
       "      <td>0.367288</td>\n",
       "      <td>0.993679</td>\n",
       "      <td>1.025865</td>\n",
       "    </tr>\n",
       "    <tr>\n",
       "      <th>std</th>\n",
       "      <td>0.481250</td>\n",
       "      <td>12.071418</td>\n",
       "      <td>9.194597</td>\n",
       "      <td>12.820306</td>\n",
       "      <td>9.274223</td>\n",
       "      <td>13.675989</td>\n",
       "      <td>9.679278</td>\n",
       "      <td>20.795591</td>\n",
       "      <td>36.297940</td>\n",
       "      <td>71.639817</td>\n",
       "      <td>14.738963</td>\n",
       "      <td>40.926476</td>\n",
       "      <td>1.564498</td>\n",
       "      <td>0.404882</td>\n",
       "      <td>0.221524</td>\n",
       "      <td>19.355460</td>\n",
       "      <td>30.947853</td>\n",
       "      <td>50.290539</td>\n",
       "      <td>0.409665</td>\n",
       "      <td>0.496908</td>\n",
       "      <td>0.482070</td>\n",
       "      <td>0.301393</td>\n",
       "      <td>0.137929</td>\n",
       "    </tr>\n",
       "    <tr>\n",
       "      <th>min</th>\n",
       "      <td>0.000000</td>\n",
       "      <td>20.000000</td>\n",
       "      <td>130.000000</td>\n",
       "      <td>30.000000</td>\n",
       "      <td>51.000000</td>\n",
       "      <td>71.000000</td>\n",
       "      <td>40.000000</td>\n",
       "      <td>46.000000</td>\n",
       "      <td>55.000000</td>\n",
       "      <td>8.000000</td>\n",
       "      <td>4.000000</td>\n",
       "      <td>1.000000</td>\n",
       "      <td>4.900000</td>\n",
       "      <td>1.000000</td>\n",
       "      <td>0.100000</td>\n",
       "      <td>6.000000</td>\n",
       "      <td>1.000000</td>\n",
       "      <td>1.000000</td>\n",
       "      <td>0.000000</td>\n",
       "      <td>0.000000</td>\n",
       "      <td>0.000000</td>\n",
       "      <td>0.000000</td>\n",
       "      <td>1.000000</td>\n",
       "    </tr>\n",
       "    <tr>\n",
       "      <th>25%</th>\n",
       "      <td>0.000000</td>\n",
       "      <td>40.000000</td>\n",
       "      <td>160.000000</td>\n",
       "      <td>55.000000</td>\n",
       "      <td>76.000000</td>\n",
       "      <td>112.000000</td>\n",
       "      <td>70.000000</td>\n",
       "      <td>89.000000</td>\n",
       "      <td>172.000000</td>\n",
       "      <td>74.000000</td>\n",
       "      <td>47.000000</td>\n",
       "      <td>92.000000</td>\n",
       "      <td>13.600000</td>\n",
       "      <td>1.000000</td>\n",
       "      <td>0.800000</td>\n",
       "      <td>19.000000</td>\n",
       "      <td>15.000000</td>\n",
       "      <td>17.000000</td>\n",
       "      <td>0.000000</td>\n",
       "      <td>0.000000</td>\n",
       "      <td>0.000000</td>\n",
       "      <td>0.800000</td>\n",
       "      <td>1.000000</td>\n",
       "    </tr>\n",
       "    <tr>\n",
       "      <th>50%</th>\n",
       "      <td>0.000000</td>\n",
       "      <td>40.000000</td>\n",
       "      <td>165.000000</td>\n",
       "      <td>65.000000</td>\n",
       "      <td>82.000000</td>\n",
       "      <td>120.000000</td>\n",
       "      <td>76.000000</td>\n",
       "      <td>96.000000</td>\n",
       "      <td>195.000000</td>\n",
       "      <td>108.000000</td>\n",
       "      <td>55.000000</td>\n",
       "      <td>113.000000</td>\n",
       "      <td>14.800000</td>\n",
       "      <td>1.000000</td>\n",
       "      <td>0.900000</td>\n",
       "      <td>23.000000</td>\n",
       "      <td>21.000000</td>\n",
       "      <td>25.000000</td>\n",
       "      <td>0.000000</td>\n",
       "      <td>1.000000</td>\n",
       "      <td>0.000000</td>\n",
       "      <td>1.000000</td>\n",
       "      <td>1.000000</td>\n",
       "    </tr>\n",
       "    <tr>\n",
       "      <th>75%</th>\n",
       "      <td>1.000000</td>\n",
       "      <td>55.000000</td>\n",
       "      <td>170.000000</td>\n",
       "      <td>75.000000</td>\n",
       "      <td>88.000000</td>\n",
       "      <td>130.000000</td>\n",
       "      <td>82.000000</td>\n",
       "      <td>104.000000</td>\n",
       "      <td>220.000000</td>\n",
       "      <td>160.000000</td>\n",
       "      <td>66.000000</td>\n",
       "      <td>136.000000</td>\n",
       "      <td>15.800000</td>\n",
       "      <td>1.000000</td>\n",
       "      <td>1.000000</td>\n",
       "      <td>28.000000</td>\n",
       "      <td>31.000000</td>\n",
       "      <td>43.000000</td>\n",
       "      <td>0.000000</td>\n",
       "      <td>1.000000</td>\n",
       "      <td>1.000000</td>\n",
       "      <td>1.200000</td>\n",
       "      <td>1.000000</td>\n",
       "    </tr>\n",
       "    <tr>\n",
       "      <th>max</th>\n",
       "      <td>1.000000</td>\n",
       "      <td>85.000000</td>\n",
       "      <td>190.000000</td>\n",
       "      <td>135.000000</td>\n",
       "      <td>129.000000</td>\n",
       "      <td>240.000000</td>\n",
       "      <td>146.000000</td>\n",
       "      <td>505.000000</td>\n",
       "      <td>445.000000</td>\n",
       "      <td>999.000000</td>\n",
       "      <td>618.000000</td>\n",
       "      <td>1860.000000</td>\n",
       "      <td>21.100000</td>\n",
       "      <td>6.000000</td>\n",
       "      <td>11.600000</td>\n",
       "      <td>1311.000000</td>\n",
       "      <td>2914.000000</td>\n",
       "      <td>999.000000</td>\n",
       "      <td>1.000000</td>\n",
       "      <td>1.000000</td>\n",
       "      <td>1.000000</td>\n",
       "      <td>2.000000</td>\n",
       "      <td>2.000000</td>\n",
       "    </tr>\n",
       "  </tbody>\n",
       "</table>\n",
       "</div>"
      ],
      "text/plain": [
       "             gender           age    height(cm)    weight(kg)     waist(cm)  \\\n",
       "count  55692.000000  55692.000000  55692.000000  55692.000000  55692.000000   \n",
       "mean       0.364343     44.182917    164.649321     65.864936     82.046418   \n",
       "std        0.481250     12.071418      9.194597     12.820306      9.274223   \n",
       "min        0.000000     20.000000    130.000000     30.000000     51.000000   \n",
       "25%        0.000000     40.000000    160.000000     55.000000     76.000000   \n",
       "50%        0.000000     40.000000    165.000000     65.000000     82.000000   \n",
       "75%        1.000000     55.000000    170.000000     75.000000     88.000000   \n",
       "max        1.000000     85.000000    190.000000    135.000000    129.000000   \n",
       "\n",
       "           systolic    relaxation  fasting blood sugar   Cholesterol  \\\n",
       "count  55692.000000  55692.000000         55692.000000  55692.000000   \n",
       "mean     121.494218     76.004830            99.312325    196.901422   \n",
       "std       13.675989      9.679278            20.795591     36.297940   \n",
       "min       71.000000     40.000000            46.000000     55.000000   \n",
       "25%      112.000000     70.000000            89.000000    172.000000   \n",
       "50%      120.000000     76.000000            96.000000    195.000000   \n",
       "75%      130.000000     82.000000           104.000000    220.000000   \n",
       "max      240.000000    146.000000           505.000000    445.000000   \n",
       "\n",
       "       triglyceride           HDL           LDL    hemoglobin  Urine protein  \\\n",
       "count  55692.000000  55692.000000  55692.000000  55692.000000   55692.000000   \n",
       "mean     126.665697     57.290347    114.964501     14.622592       1.087212   \n",
       "std       71.639817     14.738963     40.926476      1.564498       0.404882   \n",
       "min        8.000000      4.000000      1.000000      4.900000       1.000000   \n",
       "25%       74.000000     47.000000     92.000000     13.600000       1.000000   \n",
       "50%      108.000000     55.000000    113.000000     14.800000       1.000000   \n",
       "75%      160.000000     66.000000    136.000000     15.800000       1.000000   \n",
       "max      999.000000    618.000000   1860.000000     21.100000       6.000000   \n",
       "\n",
       "       serum creatinine           AST           ALT           Gtp  \\\n",
       "count      55692.000000  55692.000000  55692.000000  55692.000000   \n",
       "mean           0.885738     26.182935     27.036037     39.952201   \n",
       "std            0.221524     19.355460     30.947853     50.290539   \n",
       "min            0.100000      6.000000      1.000000      1.000000   \n",
       "25%            0.800000     19.000000     15.000000     17.000000   \n",
       "50%            0.900000     23.000000     21.000000     25.000000   \n",
       "75%            1.000000     28.000000     31.000000     43.000000   \n",
       "max           11.600000   1311.000000   2914.000000    999.000000   \n",
       "\n",
       "       dental caries        tartar       smoking      eyesight       hearing  \n",
       "count   55692.000000  55692.000000  55692.000000  55692.000000  55692.000000  \n",
       "mean        0.213334      0.555556      0.367288      0.993679      1.025865  \n",
       "std         0.409665      0.496908      0.482070      0.301393      0.137929  \n",
       "min         0.000000      0.000000      0.000000      0.000000      1.000000  \n",
       "25%         0.000000      0.000000      0.000000      0.800000      1.000000  \n",
       "50%         0.000000      1.000000      0.000000      1.000000      1.000000  \n",
       "75%         0.000000      1.000000      1.000000      1.200000      1.000000  \n",
       "max         1.000000      1.000000      1.000000      2.000000      2.000000  "
      ]
     },
     "execution_count": 4,
     "metadata": {},
     "output_type": "execute_result"
    }
   ],
   "source": [
    "#Describe data to look is there any outlayer values\n",
    "df.describe()"
   ]
  },
  {
   "cell_type": "markdown",
   "id": "vayoPi7lFwiy",
   "metadata": {
    "id": "vayoPi7lFwiy"
   },
   "source": [
    "## CatPlot"
   ]
  },
  {
   "cell_type": "code",
   "execution_count": 5,
   "id": "7t2pWnW7Ep2v",
   "metadata": {
    "executionInfo": {
     "elapsed": 6,
     "status": "ok",
     "timestamp": 1700232981513,
     "user": {
      "displayName": "Burak Ates",
      "userId": "13570976552353609876"
     },
     "user_tz": -180
    },
    "id": "7t2pWnW7Ep2v"
   },
   "outputs": [],
   "source": [
    "#CatPlot"
   ]
  },
  {
   "cell_type": "markdown",
   "id": "KyY3tkjXFz0a",
   "metadata": {
    "id": "KyY3tkjXFz0a"
   },
   "source": [
    "## BoxPlot"
   ]
  },
  {
   "cell_type": "code",
   "execution_count": 6,
   "id": "Y4uTiUt6EqCo",
   "metadata": {
    "executionInfo": {
     "elapsed": 6,
     "status": "ok",
     "timestamp": 1700232981513,
     "user": {
      "displayName": "Burak Ates",
      "userId": "13570976552353609876"
     },
     "user_tz": -180
    },
    "id": "Y4uTiUt6EqCo"
   },
   "outputs": [],
   "source": [
    "#BoxPlot"
   ]
  },
  {
   "cell_type": "markdown",
   "id": "BC1I7hF4F2F0",
   "metadata": {
    "id": "BC1I7hF4F2F0"
   },
   "source": [
    "## HeatMap"
   ]
  },
  {
   "cell_type": "code",
   "execution_count": 7,
   "id": "trPqqKZPEqKu",
   "metadata": {
    "executionInfo": {
     "elapsed": 5,
     "status": "ok",
     "timestamp": 1700232981513,
     "user": {
      "displayName": "Burak Ates",
      "userId": "13570976552353609876"
     },
     "user_tz": -180
    },
    "id": "trPqqKZPEqKu"
   },
   "outputs": [],
   "source": [
    "#HeatMap"
   ]
  },
  {
   "cell_type": "markdown",
   "id": "gNZbgyYWF5aS",
   "metadata": {
    "id": "gNZbgyYWF5aS"
   },
   "source": [
    "#Get rid of outlayer"
   ]
  },
  {
   "cell_type": "code",
   "execution_count": 8,
   "id": "Pzpu1OTOPpG1",
   "metadata": {
    "executionInfo": {
     "elapsed": 5,
     "status": "ok",
     "timestamp": 1700232981513,
     "user": {
      "displayName": "Burak Ates",
      "userId": "13570976552353609876"
     },
     "user_tz": -180
    },
    "id": "Pzpu1OTOPpG1"
   },
   "outputs": [],
   "source": [
    "# Make max values like this beacuse of outlayers still exist and we cant delete all of them, there could be too much data loss  got the values from https://www.kaggle.com/code/m000sey/ps-3-24-boosting-ensemble-w-nn\n",
    "df['Gtp'] = np.clip(df['Gtp'], 0, 300)\n",
    "df['LDL'] = np.clip(df['LDL'], 0, 250)\n",
    "df['ALT'] = np.clip(df['ALT'], 0, 150)\n",
    "df['AST'] = np.clip(df['AST'], 0, 100)\n",
    "df['serum creatinine'] = np.clip(df['serum creatinine'], 0, 2)\n",
    "df['fasting blood sugar'] = np.clip(df['fasting blood sugar'], 0, 175)\n",
    "df['triglyceride'] = np.clip(df['triglyceride'], 0, 400)\n",
    "df['hemoglobin'] = np.clip(df['hemoglobin'], 8, 20)"
   ]
  },
  {
   "cell_type": "code",
   "execution_count": 9,
   "id": "1a39908e",
   "metadata": {
    "colab": {
     "base_uri": "https://localhost:8080/",
     "height": 338
    },
    "executionInfo": {
     "elapsed": 5,
     "status": "ok",
     "timestamp": 1700232981513,
     "user": {
      "displayName": "Burak Ates",
      "userId": "13570976552353609876"
     },
     "user_tz": -180
    },
    "id": "1a39908e",
    "outputId": "3ed2d374-7f8c-4403-c1d2-a4bfe6eeae08",
    "scrolled": true
   },
   "outputs": [
    {
     "data": {
      "text/html": [
       "<div>\n",
       "<style scoped>\n",
       "    .dataframe tbody tr th:only-of-type {\n",
       "        vertical-align: middle;\n",
       "    }\n",
       "\n",
       "    .dataframe tbody tr th {\n",
       "        vertical-align: top;\n",
       "    }\n",
       "\n",
       "    .dataframe thead th {\n",
       "        text-align: right;\n",
       "    }\n",
       "</style>\n",
       "<table border=\"1\" class=\"dataframe\">\n",
       "  <thead>\n",
       "    <tr style=\"text-align: right;\">\n",
       "      <th></th>\n",
       "      <th>gender</th>\n",
       "      <th>age</th>\n",
       "      <th>height(cm)</th>\n",
       "      <th>weight(kg)</th>\n",
       "      <th>waist(cm)</th>\n",
       "      <th>systolic</th>\n",
       "      <th>relaxation</th>\n",
       "      <th>fasting blood sugar</th>\n",
       "      <th>Cholesterol</th>\n",
       "      <th>triglyceride</th>\n",
       "      <th>HDL</th>\n",
       "      <th>LDL</th>\n",
       "      <th>hemoglobin</th>\n",
       "      <th>Urine protein</th>\n",
       "      <th>serum creatinine</th>\n",
       "      <th>AST</th>\n",
       "      <th>ALT</th>\n",
       "      <th>Gtp</th>\n",
       "      <th>dental caries</th>\n",
       "      <th>tartar</th>\n",
       "      <th>smoking</th>\n",
       "      <th>eyesight</th>\n",
       "      <th>hearing</th>\n",
       "    </tr>\n",
       "  </thead>\n",
       "  <tbody>\n",
       "    <tr>\n",
       "      <th>count</th>\n",
       "      <td>55692.000000</td>\n",
       "      <td>55692.000000</td>\n",
       "      <td>55692.000000</td>\n",
       "      <td>55692.000000</td>\n",
       "      <td>55692.000000</td>\n",
       "      <td>55692.000000</td>\n",
       "      <td>55692.000000</td>\n",
       "      <td>55692.000000</td>\n",
       "      <td>55692.000000</td>\n",
       "      <td>55692.000000</td>\n",
       "      <td>55692.000000</td>\n",
       "      <td>55692.000000</td>\n",
       "      <td>55692.000000</td>\n",
       "      <td>55692.000000</td>\n",
       "      <td>55692.000000</td>\n",
       "      <td>55692.000000</td>\n",
       "      <td>55692.000000</td>\n",
       "      <td>55692.000000</td>\n",
       "      <td>55692.000000</td>\n",
       "      <td>55692.000000</td>\n",
       "      <td>55692.000000</td>\n",
       "      <td>55692.000000</td>\n",
       "      <td>55692.000000</td>\n",
       "    </tr>\n",
       "    <tr>\n",
       "      <th>mean</th>\n",
       "      <td>0.364343</td>\n",
       "      <td>44.182917</td>\n",
       "      <td>164.649321</td>\n",
       "      <td>65.864936</td>\n",
       "      <td>82.046418</td>\n",
       "      <td>121.494218</td>\n",
       "      <td>76.004830</td>\n",
       "      <td>98.688483</td>\n",
       "      <td>196.901422</td>\n",
       "      <td>126.648675</td>\n",
       "      <td>57.290347</td>\n",
       "      <td>114.533452</td>\n",
       "      <td>14.624016</td>\n",
       "      <td>1.087212</td>\n",
       "      <td>0.884299</td>\n",
       "      <td>25.738436</td>\n",
       "      <td>26.544692</td>\n",
       "      <td>38.919252</td>\n",
       "      <td>0.213334</td>\n",
       "      <td>0.555556</td>\n",
       "      <td>0.367288</td>\n",
       "      <td>0.993679</td>\n",
       "      <td>1.025865</td>\n",
       "    </tr>\n",
       "    <tr>\n",
       "      <th>std</th>\n",
       "      <td>0.481250</td>\n",
       "      <td>12.071418</td>\n",
       "      <td>9.194597</td>\n",
       "      <td>12.820306</td>\n",
       "      <td>9.274223</td>\n",
       "      <td>13.675989</td>\n",
       "      <td>9.679278</td>\n",
       "      <td>16.748424</td>\n",
       "      <td>36.297940</td>\n",
       "      <td>71.525714</td>\n",
       "      <td>14.738963</td>\n",
       "      <td>33.455773</td>\n",
       "      <td>1.557268</td>\n",
       "      <td>0.404882</td>\n",
       "      <td>0.192356</td>\n",
       "      <td>11.610665</td>\n",
       "      <td>19.156619</td>\n",
       "      <td>40.614719</td>\n",
       "      <td>0.409665</td>\n",
       "      <td>0.496908</td>\n",
       "      <td>0.482070</td>\n",
       "      <td>0.301393</td>\n",
       "      <td>0.137929</td>\n",
       "    </tr>\n",
       "    <tr>\n",
       "      <th>min</th>\n",
       "      <td>0.000000</td>\n",
       "      <td>20.000000</td>\n",
       "      <td>130.000000</td>\n",
       "      <td>30.000000</td>\n",
       "      <td>51.000000</td>\n",
       "      <td>71.000000</td>\n",
       "      <td>40.000000</td>\n",
       "      <td>46.000000</td>\n",
       "      <td>55.000000</td>\n",
       "      <td>8.000000</td>\n",
       "      <td>4.000000</td>\n",
       "      <td>1.000000</td>\n",
       "      <td>8.000000</td>\n",
       "      <td>1.000000</td>\n",
       "      <td>0.100000</td>\n",
       "      <td>6.000000</td>\n",
       "      <td>1.000000</td>\n",
       "      <td>1.000000</td>\n",
       "      <td>0.000000</td>\n",
       "      <td>0.000000</td>\n",
       "      <td>0.000000</td>\n",
       "      <td>0.000000</td>\n",
       "      <td>1.000000</td>\n",
       "    </tr>\n",
       "    <tr>\n",
       "      <th>25%</th>\n",
       "      <td>0.000000</td>\n",
       "      <td>40.000000</td>\n",
       "      <td>160.000000</td>\n",
       "      <td>55.000000</td>\n",
       "      <td>76.000000</td>\n",
       "      <td>112.000000</td>\n",
       "      <td>70.000000</td>\n",
       "      <td>89.000000</td>\n",
       "      <td>172.000000</td>\n",
       "      <td>74.000000</td>\n",
       "      <td>47.000000</td>\n",
       "      <td>92.000000</td>\n",
       "      <td>13.600000</td>\n",
       "      <td>1.000000</td>\n",
       "      <td>0.800000</td>\n",
       "      <td>19.000000</td>\n",
       "      <td>15.000000</td>\n",
       "      <td>17.000000</td>\n",
       "      <td>0.000000</td>\n",
       "      <td>0.000000</td>\n",
       "      <td>0.000000</td>\n",
       "      <td>0.800000</td>\n",
       "      <td>1.000000</td>\n",
       "    </tr>\n",
       "    <tr>\n",
       "      <th>50%</th>\n",
       "      <td>0.000000</td>\n",
       "      <td>40.000000</td>\n",
       "      <td>165.000000</td>\n",
       "      <td>65.000000</td>\n",
       "      <td>82.000000</td>\n",
       "      <td>120.000000</td>\n",
       "      <td>76.000000</td>\n",
       "      <td>96.000000</td>\n",
       "      <td>195.000000</td>\n",
       "      <td>108.000000</td>\n",
       "      <td>55.000000</td>\n",
       "      <td>113.000000</td>\n",
       "      <td>14.800000</td>\n",
       "      <td>1.000000</td>\n",
       "      <td>0.900000</td>\n",
       "      <td>23.000000</td>\n",
       "      <td>21.000000</td>\n",
       "      <td>25.000000</td>\n",
       "      <td>0.000000</td>\n",
       "      <td>1.000000</td>\n",
       "      <td>0.000000</td>\n",
       "      <td>1.000000</td>\n",
       "      <td>1.000000</td>\n",
       "    </tr>\n",
       "    <tr>\n",
       "      <th>75%</th>\n",
       "      <td>1.000000</td>\n",
       "      <td>55.000000</td>\n",
       "      <td>170.000000</td>\n",
       "      <td>75.000000</td>\n",
       "      <td>88.000000</td>\n",
       "      <td>130.000000</td>\n",
       "      <td>82.000000</td>\n",
       "      <td>104.000000</td>\n",
       "      <td>220.000000</td>\n",
       "      <td>160.000000</td>\n",
       "      <td>66.000000</td>\n",
       "      <td>136.000000</td>\n",
       "      <td>15.800000</td>\n",
       "      <td>1.000000</td>\n",
       "      <td>1.000000</td>\n",
       "      <td>28.000000</td>\n",
       "      <td>31.000000</td>\n",
       "      <td>43.000000</td>\n",
       "      <td>0.000000</td>\n",
       "      <td>1.000000</td>\n",
       "      <td>1.000000</td>\n",
       "      <td>1.200000</td>\n",
       "      <td>1.000000</td>\n",
       "    </tr>\n",
       "    <tr>\n",
       "      <th>max</th>\n",
       "      <td>1.000000</td>\n",
       "      <td>85.000000</td>\n",
       "      <td>190.000000</td>\n",
       "      <td>135.000000</td>\n",
       "      <td>129.000000</td>\n",
       "      <td>240.000000</td>\n",
       "      <td>146.000000</td>\n",
       "      <td>175.000000</td>\n",
       "      <td>445.000000</td>\n",
       "      <td>400.000000</td>\n",
       "      <td>618.000000</td>\n",
       "      <td>250.000000</td>\n",
       "      <td>20.000000</td>\n",
       "      <td>6.000000</td>\n",
       "      <td>2.000000</td>\n",
       "      <td>100.000000</td>\n",
       "      <td>150.000000</td>\n",
       "      <td>300.000000</td>\n",
       "      <td>1.000000</td>\n",
       "      <td>1.000000</td>\n",
       "      <td>1.000000</td>\n",
       "      <td>2.000000</td>\n",
       "      <td>2.000000</td>\n",
       "    </tr>\n",
       "  </tbody>\n",
       "</table>\n",
       "</div>"
      ],
      "text/plain": [
       "             gender           age    height(cm)    weight(kg)     waist(cm)  \\\n",
       "count  55692.000000  55692.000000  55692.000000  55692.000000  55692.000000   \n",
       "mean       0.364343     44.182917    164.649321     65.864936     82.046418   \n",
       "std        0.481250     12.071418      9.194597     12.820306      9.274223   \n",
       "min        0.000000     20.000000    130.000000     30.000000     51.000000   \n",
       "25%        0.000000     40.000000    160.000000     55.000000     76.000000   \n",
       "50%        0.000000     40.000000    165.000000     65.000000     82.000000   \n",
       "75%        1.000000     55.000000    170.000000     75.000000     88.000000   \n",
       "max        1.000000     85.000000    190.000000    135.000000    129.000000   \n",
       "\n",
       "           systolic    relaxation  fasting blood sugar   Cholesterol  \\\n",
       "count  55692.000000  55692.000000         55692.000000  55692.000000   \n",
       "mean     121.494218     76.004830            98.688483    196.901422   \n",
       "std       13.675989      9.679278            16.748424     36.297940   \n",
       "min       71.000000     40.000000            46.000000     55.000000   \n",
       "25%      112.000000     70.000000            89.000000    172.000000   \n",
       "50%      120.000000     76.000000            96.000000    195.000000   \n",
       "75%      130.000000     82.000000           104.000000    220.000000   \n",
       "max      240.000000    146.000000           175.000000    445.000000   \n",
       "\n",
       "       triglyceride           HDL           LDL    hemoglobin  Urine protein  \\\n",
       "count  55692.000000  55692.000000  55692.000000  55692.000000   55692.000000   \n",
       "mean     126.648675     57.290347    114.533452     14.624016       1.087212   \n",
       "std       71.525714     14.738963     33.455773      1.557268       0.404882   \n",
       "min        8.000000      4.000000      1.000000      8.000000       1.000000   \n",
       "25%       74.000000     47.000000     92.000000     13.600000       1.000000   \n",
       "50%      108.000000     55.000000    113.000000     14.800000       1.000000   \n",
       "75%      160.000000     66.000000    136.000000     15.800000       1.000000   \n",
       "max      400.000000    618.000000    250.000000     20.000000       6.000000   \n",
       "\n",
       "       serum creatinine           AST           ALT           Gtp  \\\n",
       "count      55692.000000  55692.000000  55692.000000  55692.000000   \n",
       "mean           0.884299     25.738436     26.544692     38.919252   \n",
       "std            0.192356     11.610665     19.156619     40.614719   \n",
       "min            0.100000      6.000000      1.000000      1.000000   \n",
       "25%            0.800000     19.000000     15.000000     17.000000   \n",
       "50%            0.900000     23.000000     21.000000     25.000000   \n",
       "75%            1.000000     28.000000     31.000000     43.000000   \n",
       "max            2.000000    100.000000    150.000000    300.000000   \n",
       "\n",
       "       dental caries        tartar       smoking      eyesight       hearing  \n",
       "count   55692.000000  55692.000000  55692.000000  55692.000000  55692.000000  \n",
       "mean        0.213334      0.555556      0.367288      0.993679      1.025865  \n",
       "std         0.409665      0.496908      0.482070      0.301393      0.137929  \n",
       "min         0.000000      0.000000      0.000000      0.000000      1.000000  \n",
       "25%         0.000000      0.000000      0.000000      0.800000      1.000000  \n",
       "50%         0.000000      1.000000      0.000000      1.000000      1.000000  \n",
       "75%         0.000000      1.000000      1.000000      1.200000      1.000000  \n",
       "max         1.000000      1.000000      1.000000      2.000000      2.000000  "
      ]
     },
     "execution_count": 9,
     "metadata": {},
     "output_type": "execute_result"
    }
   ],
   "source": [
    "df.describe() #Now we have more stable values"
   ]
  },
  {
   "cell_type": "markdown",
   "id": "AZ7WuqRkGI_7",
   "metadata": {
    "id": "AZ7WuqRkGI_7"
   },
   "source": [
    "### Scaled CatPlot\n"
   ]
  },
  {
   "cell_type": "code",
   "execution_count": 10,
   "id": "hNEC02rLD1b6",
   "metadata": {
    "executionInfo": {
     "elapsed": 5,
     "status": "ok",
     "timestamp": 1700232981513,
     "user": {
      "displayName": "Burak Ates",
      "userId": "13570976552353609876"
     },
     "user_tz": -180
    },
    "id": "hNEC02rLD1b6"
   },
   "outputs": [],
   "source": [
    "#CatPlot"
   ]
  },
  {
   "cell_type": "markdown",
   "id": "O0JPrkuUGQOS",
   "metadata": {
    "id": "O0JPrkuUGQOS"
   },
   "source": [
    "### Scaled BoxPlot\n"
   ]
  },
  {
   "cell_type": "code",
   "execution_count": 11,
   "id": "hxZaRCilD1tL",
   "metadata": {
    "executionInfo": {
     "elapsed": 4,
     "status": "ok",
     "timestamp": 1700232981513,
     "user": {
      "displayName": "Burak Ates",
      "userId": "13570976552353609876"
     },
     "user_tz": -180
    },
    "id": "hxZaRCilD1tL"
   },
   "outputs": [],
   "source": [
    "#BoxPlot"
   ]
  },
  {
   "cell_type": "markdown",
   "id": "20LhtJaQGSnB",
   "metadata": {
    "id": "20LhtJaQGSnB"
   },
   "source": [
    "### Scaled HeatMap"
   ]
  },
  {
   "cell_type": "code",
   "execution_count": 12,
   "id": "Q41H_mAjD14V",
   "metadata": {
    "executionInfo": {
     "elapsed": 4,
     "status": "ok",
     "timestamp": 1700232981513,
     "user": {
      "displayName": "Burak Ates",
      "userId": "13570976552353609876"
     },
     "user_tz": -180
    },
    "id": "Q41H_mAjD14V"
   },
   "outputs": [],
   "source": [
    "#HeatMap"
   ]
  },
  {
   "cell_type": "markdown",
   "id": "SWzDaSe5GWWD",
   "metadata": {
    "id": "SWzDaSe5GWWD"
   },
   "source": [
    "### Split the dataframe as X (features) and Y(outcomes), also convert it to cuDF for using cuML Random Forest Classifier"
   ]
  },
  {
   "cell_type": "code",
   "execution_count": 13,
   "id": "8ab9c613",
   "metadata": {
    "colab": {
     "base_uri": "https://localhost:8080/",
     "height": 383
    },
    "executionInfo": {
     "elapsed": 606,
     "status": "error",
     "timestamp": 1700232982115,
     "user": {
      "displayName": "Burak Ates",
      "userId": "13570976552353609876"
     },
     "user_tz": -180
    },
    "id": "8ab9c613",
    "outputId": "17ee7f21-749f-44ed-dbf2-646aad740a7a"
   },
   "outputs": [],
   "source": [
    "Y = df['smoking']\n",
    "X = df.drop(['smoking'], axis=1)"
   ]
  },
  {
   "cell_type": "markdown",
   "id": "ENLrl9D3GzpH",
   "metadata": {
    "id": "ENLrl9D3GzpH"
   },
   "source": [
    "# FEATURE SELECTION"
   ]
  },
  {
   "cell_type": "markdown",
   "id": "mRHjnuCGG7-d",
   "metadata": {
    "id": "mRHjnuCGG7-d"
   },
   "source": [
    "### Lasso"
   ]
  },
  {
   "cell_type": "code",
   "execution_count": 17,
   "id": "f0ab680a",
   "metadata": {
    "executionInfo": {
     "elapsed": 3,
     "status": "aborted",
     "timestamp": 1700232982115,
     "user": {
      "displayName": "Burak Ates",
      "userId": "13570976552353609876"
     },
     "user_tz": -180
    },
    "id": "f0ab680a"
   },
   "outputs": [],
   "source": [
    "from sklearn.feature_selection import RFE\n",
    "from sklearn.linear_model import LogisticRegression\n",
    "from sklearn.feature_selection import SelectKBest\n",
    "from sklearn.feature_selection import chi2\n",
    "from sklearn.ensemble import RandomForestClassifier\n",
    "from sklearn.model_selection import train_test_split\n",
    "from sklearn.linear_model import Lasso\n",
    "from sklearn.feature_selection import mutual_info_classif\n",
    "from sklearn.metrics import precision_score, recall_score, f1_score, roc_auc_score\n",
    "\n",
    "\n",
    "# Lets find how many features are needed using a loop and 5 different feature selection method\n",
    "feature_count = 12 # will go to 8\n",
    "RFC = RandomForestClassifier(n_estimators=100)\n",
    "model = {\n",
    "    'Logistic': {\"f1\": 0, \"precision\": 0, \"recall\": 0, \"roc_auc\": 0, \"feature_count\": 0},\n",
    "    'chi2': {\"f1\": 0, \"precision\": 0, \"recall\": 0, \"roc_auc\": 0, \"feature_count\": 0},\n",
    "    'Lasso': {\"f1\": 0, \"precision\": 0, \"recall\": 0, \"roc_auc\": 0, \"feature_count\": 0},\n",
    "    'mutual': {\"f1\": 0, \"precision\": 0, \"recall\": 0, \"roc_auc\": 0, \"feature_count\": 0},\n",
    "    'RFC': {\"f1\": 0, \"precision\": 0, \"recall\": 0, \"roc_auc\": 0, \"feature_count\": 0},\n",
    "    'KNN': {\"f1\": 0, \"precision\": 0, \"recall\": 0, \"roc_auc\": 0, \"feature_count\": 0},\n",
    "    'Stacking': {\"f1\": 0, \"precision\": 0, \"recall\": 0, \"roc_auc\": 0, \"feature_count\": 0},\n",
    "    'Max_voting': {\"f1\": 0, \"precision\": 0, \"recall\": 0, \"roc_auc\": 0, \"feature_count\": 0},\n",
    "    'Deep_learning': {\"f1\": 0, \"precision\": 0, \"recall\": 0, \"roc_auc\": 0, \"feature_count\": 0}\n",
    "}\n",
    "\n",
    "\n",
    "#Only lasso is applied once\n",
    "lasso = Lasso(alpha=0.01)\n",
    "lasso.fit(X, Y)\n",
    "\n",
    "# Get feature which does not have coeffient 0\n",
    "selected_features = X.columns[lasso.coef_ != 0]\n",
    "X_lasso = X[selected_features]\n",
    "X_train_lasso, X_test_lasso, y_train_lasoo, y_test_lasso = train_test_split(X_lasso, Y, test_size=0.2, random_state=42)\n",
    "RFC.fit(X_train_lasso,y_train_lasoo)\n",
    "\n",
    "\n",
    "y_pred_lasso = RFC.predict(X_test_lasso)\n",
    "\n",
    "\n",
    "precision = precision_score(y_test_lasso, y_pred_lasso)\n",
    "recall = recall_score(y_test_lasso, y_pred_lasso)\n",
    "f1 = f1_score(y_test_lasso, y_pred_lasso)\n",
    "\n",
    "roc_auc = roc_auc_score(y_test_lasso, y_pred_lasso)\n",
    "\n",
    "# Assign these values to the model dictionary\n",
    "model['Lasso']['precision'] = precision\n",
    "model['Lasso']['recall'] = recall\n",
    "model['Lasso']['f1_score'] = f1\n",
    "model['Lasso']['feature_count'] = X_lasso.shape[1]\n",
    "model['Lasso']['roc_auc'] = roc_auc"
   ]
  },
  {
   "cell_type": "markdown",
   "id": "uVEF3BMHHBH8",
   "metadata": {
    "id": "uVEF3BMHHBH8"
   },
   "source": [
    "### Chi2 and mutual_info with SelectKBest"
   ]
  },
  {
   "cell_type": "code",
   "execution_count": 18,
   "id": "3d7783e0",
   "metadata": {
    "executionInfo": {
     "elapsed": 3,
     "status": "aborted",
     "timestamp": 1700232982115,
     "user": {
      "displayName": "Burak Ates",
      "userId": "13570976552353609876"
     },
     "user_tz": -180
    },
    "id": "3d7783e0"
   },
   "outputs": [],
   "source": [
    "def RFC_train_test_SelectKBest(method, feature_count, X, Y):\n",
    "    k_best = SelectKBest(score_func=method, k=feature_count)\n",
    "    X_selected = k_best.fit_transform(X, Y)\n",
    "    X_train, X_test, y_train, y_test = train_test_split(X_selected, Y, test_size=0.2, random_state=42)\n",
    "\n",
    "    RFC.fit(X_train, y_train)\n",
    "    y_pred = RFC.predict(X_test)\n",
    "    f1 = f1_score(y_test, y_pred)\n",
    "    precision = precision_score(y_test, y_pred)\n",
    "    recall = recall_score(y_test, y_pred)\n",
    "    roc_auc = roc_auc_score(y_test, y_pred)\n",
    "    return f1, precision, recall, roc_auc\n",
    "\n",
    "\n",
    "feature_count = 22\n",
    "while feature_count > 15:\n",
    "    chi_f1, chi_precision, chi_recall, chi_roc_auc = RFC_train_test_SelectKBest(chi2, feature_count, X, Y)\n",
    "    mutual_f1, mutual_precision, mutual_recall, mutual_roc_auc = RFC_train_test_SelectKBest(mutual_info_classif, feature_count, X, Y)\n",
    "\n",
    "    if chi_f1 > model['chi2']['f1']:\n",
    "        model['chi2']['f1'] = chi_f1\n",
    "        model['chi2']['precision'] = chi_precision\n",
    "        model['chi2']['recall'] = chi_recall\n",
    "        model['chi2']['feature_count'] = feature_count\n",
    "        model['chi2']['roc_auc'] = chi_roc_auc\n",
    "\n",
    "    if mutual_f1 > model['mutual']['f1']:\n",
    "        model['mutual']['f1'] = mutual_f1\n",
    "        model['mutual']['precision'] = mutual_precision\n",
    "        model['mutual']['recall'] = mutual_recall\n",
    "        model['mutual']['feature_count'] = feature_count\n",
    "        model['mutual']['roc_auc'] = mutual_roc_auc\n",
    "    feature_count -= 1\n"
   ]
  },
  {
   "cell_type": "markdown",
   "id": "u09fn4noHRP3",
   "metadata": {
    "id": "u09fn4noHRP3"
   },
   "source": [
    "### RFC"
   ]
  },
  {
   "cell_type": "code",
   "execution_count": 19,
   "id": "7f8bcfa3",
   "metadata": {
    "executionInfo": {
     "elapsed": 3,
     "status": "aborted",
     "timestamp": 1700232982115,
     "user": {
      "displayName": "Burak Ates",
      "userId": "13570976552353609876"
     },
     "user_tz": -180
    },
    "id": "7f8bcfa3"
   },
   "outputs": [],
   "source": [
    "\n",
    "def RFC_train_test_RFC(X, Y, feature_count):\n",
    "    RFC.fit(X, Y)\n",
    "\n",
    "    # Access feature importances\n",
    "    feature_importances = RFC.feature_importances_\n",
    "\n",
    "    # Sort the features\n",
    "    sorted_feature_indices = feature_importances.argsort()[::-1]\n",
    "\n",
    "    selected_feature_indices = sorted_feature_indices[:feature_count]\n",
    "\n",
    "    # Select specified features within cuDF\n",
    "    X_selected = X.iloc[:, selected_feature_indices]\n",
    "\n",
    "    X_train, X_test, y_train, y_test = train_test_split(X_selected, Y, test_size=0.2, random_state=42)\n",
    "    RFC.fit(X_train, y_train)\n",
    "    y_pred = RFC.predict(X_test)\n",
    "\n",
    "    f1 = f1_score(y_test, y_pred)\n",
    "    precision = precision_score(y_test, y_pred)\n",
    "    recall = recall_score(y_test, y_pred)\n",
    "    roc_auc = roc_auc_score(y_test, y_pred)\n",
    "    return f1, precision, recall, roc_auc\n",
    "\n",
    "feature_count = 15\n",
    "while feature_count < 20:\n",
    "    RFC_f1, RFC_precision, RFC_recall, RFC_roc_auc = RFC_train_test_RFC(X, Y, feature_count)\n",
    "    if RFC_f1 > model['RFC']['f1']:\n",
    "        model['RFC']['f1'] = RFC_f1\n",
    "        model['RFC']['precision'] = RFC_precision\n",
    "        model['RFC']['recall'] = RFC_recall\n",
    "        model['RFC']['feature_count'] = feature_count\n",
    "        model['RFC']['roc_auc'] = RFC_roc_auc\n",
    "    feature_count += 1\n"
   ]
  },
  {
   "cell_type": "markdown",
   "id": "ztSNRUHeHN5n",
   "metadata": {
    "id": "ztSNRUHeHN5n"
   },
   "source": [
    "### Logisctic Reggression"
   ]
  },
  {
   "cell_type": "code",
   "execution_count": 20,
   "id": "cQpsHRblHXm3",
   "metadata": {
    "executionInfo": {
     "elapsed": 3,
     "status": "aborted",
     "timestamp": 1700232982115,
     "user": {
      "displayName": "Burak Ates",
      "userId": "13570976552353609876"
     },
     "user_tz": -180
    },
    "id": "cQpsHRblHXm3"
   },
   "outputs": [],
   "source": [
    "#Logistic Regression Here"
   ]
  },
  {
   "cell_type": "markdown",
   "id": "OUoo98sMjatP",
   "metadata": {
    "id": "OUoo98sMjatP"
   },
   "source": [
    "### KNN\n"
   ]
  },
  {
   "cell_type": "code",
   "execution_count": 21,
   "id": "YANGs98-jcJ6",
   "metadata": {
    "executionInfo": {
     "elapsed": 3,
     "status": "aborted",
     "timestamp": 1700232982115,
     "user": {
      "displayName": "Burak Ates",
      "userId": "13570976552353609876"
     },
     "user_tz": -180
    },
    "id": "YANGs98-jcJ6"
   },
   "outputs": [],
   "source": [
    "#KNN here"
   ]
  },
  {
   "cell_type": "markdown",
   "id": "Kr15kUc4Hefz",
   "metadata": {
    "id": "Kr15kUc4Hefz"
   },
   "source": [
    "### Max voting"
   ]
  },
  {
   "cell_type": "code",
   "execution_count": 22,
   "id": "lic_K6lkHmOi",
   "metadata": {
    "executionInfo": {
     "elapsed": 3,
     "status": "aborted",
     "timestamp": 1700232982115,
     "user": {
      "displayName": "Burak Ates",
      "userId": "13570976552353609876"
     },
     "user_tz": -180
    },
    "id": "lic_K6lkHmOi"
   },
   "outputs": [],
   "source": [
    "#Max voting here"
   ]
  },
  {
   "cell_type": "markdown",
   "id": "IkHrXwl1Hn8M",
   "metadata": {
    "id": "IkHrXwl1Hn8M"
   },
   "source": [
    "### Stacking"
   ]
  },
  {
   "cell_type": "code",
   "execution_count": 23,
   "id": "wwT3ZN23HpyO",
   "metadata": {
    "executionInfo": {
     "elapsed": 3,
     "status": "aborted",
     "timestamp": 1700232982115,
     "user": {
      "displayName": "Burak Ates",
      "userId": "13570976552353609876"
     },
     "user_tz": -180
    },
    "id": "wwT3ZN23HpyO"
   },
   "outputs": [],
   "source": [
    "#Stacking Here"
   ]
  },
  {
   "cell_type": "markdown",
   "id": "iRzwm51bM597",
   "metadata": {
    "id": "iRzwm51bM597"
   },
   "source": [
    "### Deep Learning"
   ]
  },
  {
   "cell_type": "code",
   "execution_count": 24,
   "id": "pnb5xoO0M8-w",
   "metadata": {
    "executionInfo": {
     "elapsed": 4,
     "status": "aborted",
     "timestamp": 1700232982116,
     "user": {
      "displayName": "Burak Ates",
      "userId": "13570976552353609876"
     },
     "user_tz": -180
    },
    "id": "pnb5xoO0M8-w"
   },
   "outputs": [],
   "source": [
    "#Deep Learning Here"
   ]
  },
  {
   "cell_type": "code",
   "execution_count": 25,
   "id": "ac303ae8",
   "metadata": {
    "executionInfo": {
     "elapsed": 4,
     "status": "aborted",
     "timestamp": 1700232982116,
     "user": {
      "displayName": "Burak Ates",
      "userId": "13570976552353609876"
     },
     "user_tz": -180
    },
    "id": "ac303ae8"
   },
   "outputs": [
    {
     "name": "stdout",
     "output_type": "stream",
     "text": [
      "Logistic has roc_auc=0.0000, f1=0.0000, precision=0.0000, recall=0.0000, feature_count=0\n",
      "chi2 has roc_auc=0.8260, f1=0.7796, precision=0.7644, recall=0.7955, feature_count=17\n",
      "Lasso has roc_auc=0.8256, f1=0.0000, precision=0.7623, recall=0.7964, feature_count=16\n",
      "mutual has roc_auc=0.8271, f1=0.7808, precision=0.7633, recall=0.7991, feature_count=21\n",
      "RFC has roc_auc=0.8204, f1=0.7726, precision=0.7568, recall=0.7892, feature_count=17\n",
      "KNN has roc_auc=0.0000, f1=0.0000, precision=0.0000, recall=0.0000, feature_count=0\n",
      "Stacking has roc_auc=0.0000, f1=0.0000, precision=0.0000, recall=0.0000, feature_count=0\n",
      "Max_voting has roc_auc=0.0000, f1=0.0000, precision=0.0000, recall=0.0000, feature_count=0\n",
      "Deep_learning has roc_auc=0.0000, f1=0.0000, precision=0.0000, recall=0.0000, feature_count=0\n",
      "The best feature selection method is 'mutual' with an roc_auc_score of 0.8271 and feature count 21\n"
     ]
    }
   ],
   "source": [
    "best_method = None\n",
    "best_roc = 0\n",
    "\n",
    "for method, info in model.items():\n",
    "    roc = info['roc_auc']\n",
    "    if roc > best_roc:\n",
    "        best_method = method\n",
    "        best_roc = roc\n",
    "    print(f\"{method} has roc_auc={info['roc_auc']:.4f}, f1={info['f1']:.4f}, precision={info['precision']:.4f}, recall={info['recall']:.4f}, feature_count={info['feature_count']}\")\n",
    "\n",
    "print(f\"The best feature selection method is '{best_method}' with an roc_auc_score of {best_roc:.4f} and feature count {model[best_method]['feature_count']}\")"
   ]
  },
  {
   "cell_type": "code",
   "execution_count": null,
   "id": "8ca167f7",
   "metadata": {
    "executionInfo": {
     "elapsed": 4,
     "status": "aborted",
     "timestamp": 1700232982116,
     "user": {
      "displayName": "Burak Ates",
      "userId": "13570976552353609876"
     },
     "user_tz": -180
    },
    "id": "8ca167f7"
   },
   "outputs": [],
   "source": []
  }
 ],
 "metadata": {
  "accelerator": "GPU",
  "colab": {
   "gpuType": "T4",
   "provenance": []
  },
  "kernelspec": {
   "display_name": "Python 3 (ipykernel)",
   "language": "python",
   "name": "python3"
  },
  "language_info": {
   "codemirror_mode": {
    "name": "ipython",
    "version": 3
   },
   "file_extension": ".py",
   "mimetype": "text/x-python",
   "name": "python",
   "nbconvert_exporter": "python",
   "pygments_lexer": "ipython3",
   "version": "3.10.0"
  }
 },
 "nbformat": 4,
 "nbformat_minor": 5
}
